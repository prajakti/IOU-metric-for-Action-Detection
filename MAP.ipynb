{
  "nbformat": 4,
  "nbformat_minor": 0,
  "metadata": {
    "colab": {
      "name": "MAP.ipynb",
      "provenance": [],
      "collapsed_sections": []
    },
    "kernelspec": {
      "name": "python3",
      "display_name": "Python 3"
    },
    "language_info": {
      "name": "python"
    }
  },
  "cells": [
    {
      "cell_type": "code",
      "source": [
        "#For 1 second windows\n",
        "#True labels start and end\n",
        "x1 = [3.17,13.5,7.18,7.89] \n",
        "x2 = [5.99,15,7.86,10.41]\n",
        "\n",
        "#Pred labels start and end\n",
        "x3 = [3.08,8,4.36,9.12]\n",
        "x4 = [4.21,9.12,9,10.41]\n",
        "\n",
        "\n",
        "# #2 second interval\n",
        "x1 = [3.17,13.5,7.18,7.89] \n",
        "x2 = [5.99,15,7.86,10.41]\n",
        "x3 = [3.16,7.68,7.64,9.65]\n",
        "x4 = [5.84,9.96,9.64,10.41]"
      ],
      "metadata": {
        "id": "PbYgXsNQc8Qj"
      },
      "execution_count": null,
      "outputs": []
    },
    {
      "cell_type": "code",
      "execution_count": null,
      "metadata": {
        "colab": {
          "base_uri": "https://localhost:8080/"
        },
        "id": "qwnWk9_3YzG3",
        "outputId": "f6c95eea-d90a-457e-f9f4-66f2de25bc31"
      },
      "outputs": [
        {
          "output_type": "stream",
          "name": "stdout",
          "text": [
            "0.0625425125629265\n",
            "0.04463340879788728\n",
            "0.7499999534722259\n"
          ]
        }
      ],
      "source": [
        "from statistics import mean\n",
        "from sklearn import metrics\n",
        "import numpy as np\n",
        "# 39.88 - 41.4 (2)\n",
        "# 44.67 - 45.5 (1)\n",
        "# 66.19 - 67.86 (3)\n",
        "# 71.01 - 71.81 (1)\n",
        "# 72.92 - 74.08 (1)\n",
        "# 87.8 - 88.5 (4)\n",
        "# 89.81 - 92.32 (4)\n",
        "# 15.01 - 16.88 (3)\n",
        "# 23.92 - 26.32 (2)\n",
        "\n",
        "#For 1 second windows\n",
        "#True labels start and end\n",
        "x1 = [44.67,71.01,72.92,39.88,23.92,66.19,15.01]\n",
        "x2 = [45.5,71.81,74.08,41.4,26.32,67.86,16.88]\n",
        "\n",
        "#Pred labels start and end\n",
        "x3 = [7.9007900790079,13.434676801013435,14.534786812014534,15.5015501550155,36.03693702703604,39.83731706503984,43.80438043804381,44.53778711204454,\\\n",
        "      46.10461046104611,51.63849718305164,6.37330399706637,70.94042737607094,72.44057739107244,87.44207754108744,88.80888088808881,89.87565423208987,\\\n",
        "      92.77594426109277,94.70947094709472]\n",
        "x4 = [4.000850085008501,14.434726806013934,15.468163483014969,16.468263493015968,37.3036803680368,41.47076374304097,44.30438043804381,45.771193786045274,\\\n",
        "      46.73795712904624,52.17183385005167,66.87330399706637,71.74045737907124,73.80733073307331,88.8088308830883,89.67558422508918,90.9090409040904,\\\n",
        "      93.37595426209288,95.27614428109477]\n",
        "\n",
        "pred_labels = [2,1,3,3,2,2,1,1,2,2,3,1,1,3,3,3,2,2]\n",
        "precision = []\n",
        "recall = []\n",
        "labels = [1,1,1,2,2,3,3]\n",
        "\n",
        "threshold = 0.2\n",
        "ap= []\n",
        "tp = [0]*4\n",
        "fp = [0]*4\n",
        "fn = [0]*4\n",
        "for i in range(len(labels)):\n",
        "  # precision = [0]* points\n",
        "  # recall = [0]*points\n",
        "  for j in range(len(pred_labels)):\n",
        "    x_inter1 = max(x1[i], x3[j])\n",
        "    x_inter2 = min(x2[i], x4[j])\n",
        "    width_inter = (x_inter2 - x_inter1)\n",
        "    if(width_inter<0) :\n",
        "      fp[pred_labels[j]] += 1\n",
        "      continue\n",
        "    # print(\"Print\",str(width_inter))\n",
        "    area_inter = width_inter\n",
        "    area_box1 = abs(x2[i]- x1[i])\n",
        "    area_box2 = abs(x4[j]- x3[j])\n",
        "    area_union = area_box1 + area_box2 - area_inter\n",
        "    iou = area_inter / area_union\n",
        "    if(iou>threshold):\n",
        "      if(pred_labels[j]==labels[i]):\n",
        "        tp[pred_labels[j]]+= 1 \n",
        "      else:\n",
        "        fp[pred_labels[j]] += 1\n",
        "    else:\n",
        "      if(pred_labels[j]==labels[i]):\n",
        "        fn[pred_labels[j]] += 1\n",
        "      else:\n",
        "        print\n",
        "    # print(sum(tp[:j+1])/(sum(tp[:j+1])+sum(fp[:j+1])+0.0000001))\n",
        "    # print(sum(tp[:j+1])/(sum(tp[:j+1])+sum(fn[:j+1])+0.0000001))\n",
        "  \n",
        "  # print(\"Precision: \",str(precision))\n",
        "  # print(\"Recall: \",str(recall))\n",
        "for i in [1,2,3]:\n",
        "  precision.append(tp[i]/(tp[i]+fp[i]+0.0000001))\n",
        "  recall.append(tp[i]/(tp[i]+fn[i]+0.0000001))\n",
        "ap = metrics.auc(np.sort(precision),np.sort(recall))\n",
        "print(ap)\n",
        "p = mean(precision)\n",
        "r = mean(recall)\n",
        "print(p)\n",
        "print(r)\n",
        "# print(\"MAP\",str(map))"
      ]
    },
    {
      "cell_type": "code",
      "source": [
        ""
      ],
      "metadata": {
        "id": "FLQ7Iv5gqad6"
      },
      "execution_count": null,
      "outputs": []
    },
    {
      "cell_type": "code",
      "source": [
        ""
      ],
      "metadata": {
        "id": "HFKzRIilZp5h"
      },
      "execution_count": null,
      "outputs": []
    }
  ]
}